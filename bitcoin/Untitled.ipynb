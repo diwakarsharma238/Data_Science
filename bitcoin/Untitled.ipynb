{
 "cells": [
  {
   "cell_type": "code",
   "execution_count": null,
   "metadata": {},
   "outputs": [],
   "source": [
    "from requests_html import AsyncHTMLSession\n",
    "session=AsyncHTMLSession()\n",
    "account_name='BorisJohnson'\n",
    "url='https://ycharts.com/indicators/bitcoin_price#:~:text=Bitcoin%20Price%20is%20at%20a,314.3%25%20from%20one%20year%20ago'\n",
    "r = await session.get(url)\n",
    "await r.html.arender(timeout=5,sleep=5)\n",
    "links=r.html.find('[href*=follower]')"
   ]
  }
 ],
 "metadata": {
  "kernelspec": {
   "display_name": "Python 3",
   "language": "python",
   "name": "python3"
  },
  "language_info": {
   "codemirror_mode": {
    "name": "ipython",
    "version": 3
   },
   "file_extension": ".py",
   "mimetype": "text/x-python",
   "name": "python",
   "nbconvert_exporter": "python",
   "pygments_lexer": "ipython3",
   "version": "3.8.5"
  }
 },
 "nbformat": 4,
 "nbformat_minor": 4
}
