{
 "cells": [
  {
   "cell_type": "markdown",
   "metadata": {},
   "source": [
    "## Data Generate Task- Python and Excel "
   ]
  },
  {
   "cell_type": "markdown",
   "metadata": {},
   "source": [
    "#### 1.\tGenerate 3 random integers between 100 and 999 which is divisible by 5"
   ]
  },
  {
   "cell_type": "code",
   "execution_count": 27,
   "metadata": {},
   "outputs": [
    {
     "name": "stdout",
     "output_type": "stream",
     "text": [
      "835\n",
      "300\n",
      "910\n"
     ]
    }
   ],
   "source": [
    "import random\n",
    "for i in range(3):\n",
    "    print(random.randrange(100,999,5))\n"
   ]
  },
  {
   "cell_type": "markdown",
   "metadata": {},
   "source": [
    "#### 2.\tRandom Lottery Pick. Generate 100 random lottery tickets and pick two lucky tickets from it as a winner."
   ]
  },
  {
   "cell_type": "code",
   "execution_count": 32,
   "metadata": {},
   "outputs": [
    {
     "name": "stdout",
     "output_type": "stream",
     "text": [
      "the two lucky tickets are 74673 and 44544\n"
     ]
    }
   ],
   "source": [
    "import random\n",
    "ticket=[]\n",
    "for i in range(100):\n",
    "    ticket.append(random.randint(10000,99999))\n",
    "lucky_ticket=[]\n",
    "for i in range(2):\n",
    "    lucky_ticket.append(random.choice(ticket))\n",
    "print('the two lucky tickets are {} and {}'.format(lucky_ticket[0],lucky_ticket[1]))\n",
    "                  \n",
    "                  "
   ]
  },
  {
   "cell_type": "markdown",
   "metadata": {},
   "source": [
    "#### 3.\tGenerate 6 digit random secure OTP"
   ]
  },
  {
   "cell_type": "code",
   "execution_count": 36,
   "metadata": {},
   "outputs": [
    {
     "name": "stdout",
     "output_type": "stream",
     "text": [
      "Secure OTP is 744126\n"
     ]
    }
   ],
   "source": [
    "import random\n",
    "print('Secure OTP is {}'.format(random.randint(100000,999999)))"
   ]
  },
  {
   "cell_type": "markdown",
   "metadata": {},
   "source": [
    "#### 4.\tPick a random character from a given String"
   ]
  },
  {
   "cell_type": "code",
   "execution_count": 44,
   "metadata": {},
   "outputs": [
    {
     "data": {
      "text/plain": [
       "'a'"
      ]
     },
     "execution_count": 44,
     "metadata": {},
     "output_type": "execute_result"
    }
   ],
   "source": [
    "import random\n",
    "string='This is a string'\n",
    "random.choice(string)"
   ]
  },
  {
   "cell_type": "markdown",
   "metadata": {},
   "source": [
    "#### 5.\tGenerate random String of length 5"
   ]
  },
  {
   "cell_type": "code",
   "execution_count": 52,
   "metadata": {},
   "outputs": [
    {
     "name": "stdout",
     "output_type": "stream",
     "text": [
      "Random string of length 5: dmsvX\n"
     ]
    }
   ],
   "source": [
    "import random\n",
    "import string\n",
    "\n",
    "letters=string.ascii_letters\n",
    "random_str=''\n",
    "random_str+=''.join(random.choice(letters) for i in range(5))\n",
    "print('Random string of length 5:',random_str)"
   ]
  },
  {
   "cell_type": "markdown",
   "metadata": {},
   "source": [
    "#### 6.\tGenerate a random Password which meets the following conditions\n",
    "(condition is not given)"
   ]
  },
  {
   "cell_type": "markdown",
   "metadata": {},
   "source": [
    "#### 7.\tCalculate multiplication of two random float numbers"
   ]
  },
  {
   "cell_type": "code",
   "execution_count": 62,
   "metadata": {},
   "outputs": [
    {
     "name": "stdout",
     "output_type": "stream",
     "text": [
      "num1:51857.023983044906\n",
      "num2:55223.67495777004\n",
      "Prod:2863735436.7169576\n"
     ]
    }
   ],
   "source": [
    "import random\n",
    "\n",
    "num1 = random.randint(1,99999)*random.random()\n",
    "num2 = random.randint(1,99999)*random.random()\n",
    "prod=num1*num2\n",
    "print('num1:{}\\nnum2:{}\\nProd:{}'.format(num1,num2,prod))"
   ]
  },
  {
   "cell_type": "markdown",
   "metadata": {},
   "source": [
    "#### 8.\tGenerate random secure token of 64 bytes and random URL\n"
   ]
  },
  {
   "cell_type": "code",
   "execution_count": 128,
   "metadata": {},
   "outputs": [
    {
     "name": "stdout",
     "output_type": "stream",
     "text": [
      "Random secure Hexadecimal token is  b298729f40c181283f91b6515f5e8d46\n",
      "Random url safe token NxRImdPEv2LDk_9pvbM9vw\n"
     ]
    }
   ],
   "source": [
    "import secrets\n",
    "from secrets import token_urlsafe\n",
    "\n",
    "print(\"Random secure Hexadecimal token is \", secrets.token_hex(16))\n",
    "print('Random url safe token',secrets.token_urlsafe(16))"
   ]
  },
  {
   "cell_type": "markdown",
   "metadata": {},
   "source": [
    "#### 9.\tRoll dice in such a way that every time you get the same number"
   ]
  },
  {
   "cell_type": "code",
   "execution_count": 68,
   "metadata": {},
   "outputs": [
    {
     "name": "stdout",
     "output_type": "stream",
     "text": [
      "dice: 5\n"
     ]
    }
   ],
   "source": [
    "import random\n",
    "random.seed(101)\n",
    "print('dice:',random.randint(1,6))"
   ]
  },
  {
   "cell_type": "markdown",
   "metadata": {},
   "source": [
    "#### 10.\tGenerate a random date between given start and end dates"
   ]
  },
  {
   "cell_type": "code",
   "execution_count": 115,
   "metadata": {},
   "outputs": [
    {
     "name": "stdout",
     "output_type": "stream",
     "text": [
      "Enter start date in format d/m/y1/1/2021\n",
      "Enter end date in format d/m/y1/3/2021\n",
      "\n",
      "Random date between 2021-01-01 and 2021-03-01 is 2021-02-18\n"
     ]
    }
   ],
   "source": [
    "import random\n",
    "from datetime import datetime\n",
    "\n",
    "def random_date(startdate,enddate):\n",
    "    \n",
    "\n",
    "    diff = enddate-startdate\n",
    "    diff_seconds=diff.days*24*60*60+diff.seconds\n",
    "\n",
    "    random_seconds=random.randrange(diff_seconds)\n",
    "    random_date=startdate+timedelta(seconds=random_seconds)\n",
    "\n",
    "    return print('\\nRandom date between {} and {} is {}'.format(startdate.date(),enddate.date(),random_date.date()))\n",
    "\n",
    "startdate=input('Enter start date in format d/m/y')\n",
    "enddate=input('Enter end date in format d/m/y')\n",
    "\n",
    "d1=datetime.strptime(startdate,'%d/%m/%Y')\n",
    "d2=datetime.strptime(enddate,'%d/%m/%Y')\n",
    "\n",
    "random_date(d1,d2)\n"
   ]
  },
  {
   "cell_type": "code",
   "execution_count": null,
   "metadata": {},
   "outputs": [],
   "source": []
  }
 ],
 "metadata": {
  "kernelspec": {
   "display_name": "Python 3",
   "language": "python",
   "name": "python3"
  },
  "language_info": {
   "codemirror_mode": {
    "name": "ipython",
    "version": 3
   },
   "file_extension": ".py",
   "mimetype": "text/x-python",
   "name": "python",
   "nbconvert_exporter": "python",
   "pygments_lexer": "ipython3",
   "version": "3.7.6"
  }
 },
 "nbformat": 4,
 "nbformat_minor": 4
}
