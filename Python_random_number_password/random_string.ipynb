{
 "cells": [
  {
   "cell_type": "code",
   "execution_count": 1,
   "metadata": {},
   "outputs": [],
   "source": [
    "import random"
   ]
  },
  {
   "cell_type": "code",
   "execution_count": 2,
   "metadata": {},
   "outputs": [],
   "source": [
    "import string"
   ]
  },
  {
   "cell_type": "markdown",
   "metadata": {},
   "source": [
    "1. Generate 6 digit random secure OTP"
   ]
  },
  {
   "cell_type": "code",
   "execution_count": 3,
   "metadata": {},
   "outputs": [
    {
     "name": "stdout",
     "output_type": "stream",
     "text": [
      "112136\n"
     ]
    }
   ],
   "source": [
    "print(random.randint(1,999999))"
   ]
  },
  {
   "cell_type": "markdown",
   "metadata": {},
   "source": [
    "2.Generate random string length 5\n",
    "****String must be the combination of the UPPER case and lower case letters only. No numbers and a special symbol."
   ]
  },
  {
   "cell_type": "code",
   "execution_count": 5,
   "metadata": {},
   "outputs": [
    {
     "name": "stdout",
     "output_type": "stream",
     "text": [
      "GI,fm\n"
     ]
    }
   ],
   "source": [
    "#Function to generate random string default length is 5 characters.\n",
    "def random_string(length=5):\n",
    "    character_lower=''\n",
    "    character_upper=''\n",
    "    character_special=''\n",
    "    \n",
    "    #character sets of lower case, upper case letters and special symbol\n",
    "    character_lower=string.ascii_lowercase\n",
    "    character_upper=string.ascii_uppercase\n",
    "    character_special=string.punctuation\n",
    "    \n",
    "    #selecting 1 lower case, 1 upper case letter and 1 special character\n",
    "    random_str=random.choice(character_lower)\n",
    "    random_str+=random.choice(character_upper)\n",
    "    random_str+=random.choice(character_special)\n",
    "    \n",
    "    # rest of the characters (length of password - 3 ( 3 characters already choosen above))\n",
    "    random_str+=''.join( random.choice(string.ascii_letters) for i in range(length-3))\n",
    "    \n",
    "    #shuffling the characters of random password string\n",
    "    return(''.join(random.sample(random_str,len(random_str))))\n",
    "\n",
    "\n",
    "my_random_string=random_string()\n",
    "print(my_random_string)"
   ]
  },
  {
   "cell_type": "markdown",
   "metadata": {},
   "source": [
    "3. Generate a random Password which meets the following condition ** Password must be 10 characters long ** It must contain at least 2 upper case letters, 1 digit, and 1 special symbol."
   ]
  },
  {
   "cell_type": "code",
   "execution_count": 7,
   "metadata": {},
   "outputs": [
    {
     "name": "stdout",
     "output_type": "stream",
     "text": [
      "Hz){vv1&dG\n"
     ]
    }
   ],
   "source": [
    "#Function to generate random password default length is 10 characters. \n",
    "def random_password(length=10):\n",
    "    character_number=''\n",
    "    character_upper=''\n",
    "    character_special=''\n",
    "    \n",
    "    #character sets of nubers, upper case letters and special symbol\n",
    "    character_number=string.digits\n",
    "    character_upper=string.ascii_uppercase\n",
    "    character_special=string.punctuation\n",
    "    \n",
    "    character_all=string.ascii_letters+string.digits+string.punctuation\n",
    "    \n",
    "    #selecting 1 number, 2 upper case letter and 1 special character (mandatory req of the random password)\n",
    "    random_str=random.choice(character_number)\n",
    "    random_str+=random.choice(character_upper)+random.choice(character_upper)\n",
    "    random_str+=random.choice(character_special)\n",
    "    \n",
    "    # rest of the characters (length of password - 4 ( 4 characters already choosen above))\n",
    "    random_str+=''.join( random.choice(character_all) for i in range(length-4))\n",
    "    \n",
    "    #shuffling the characters of random password string and returning the final random password\n",
    "    return(''.join(random.sample(random_str,len(random_str))))\n",
    "\n",
    "\n",
    "my_random_password=random_password()\n",
    "print(my_random_password)"
   ]
  },
  {
   "cell_type": "code",
   "execution_count": null,
   "metadata": {},
   "outputs": [],
   "source": []
  }
 ],
 "metadata": {
  "kernelspec": {
   "display_name": "Python 3",
   "language": "python",
   "name": "python3"
  },
  "language_info": {
   "codemirror_mode": {
    "name": "ipython",
    "version": 3
   },
   "file_extension": ".py",
   "mimetype": "text/x-python",
   "name": "python",
   "nbconvert_exporter": "python",
   "pygments_lexer": "ipython3",
   "version": "3.8.5"
  }
 },
 "nbformat": 4,
 "nbformat_minor": 4
}
